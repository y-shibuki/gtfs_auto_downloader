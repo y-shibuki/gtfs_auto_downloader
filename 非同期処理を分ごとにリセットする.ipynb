{
 "cells": [
  {
   "cell_type": "code",
   "execution_count": 4,
   "metadata": {},
   "outputs": [
    {
     "name": "stdout",
     "output_type": "stream",
     "text": [
      "開始時刻 2023-05-17 17:37:16.260376\n",
      "ループ 2023-05-17 17:38:00.006296\n",
      "ループ 2023-05-17 17:38:02.005084\n",
      "ループ 2023-05-17 17:38:04.005075\n",
      "ループ 2023-05-17 17:38:06.005071\n",
      "ループ 2023-05-17 17:38:08.004890\n",
      "ループ 2023-05-17 17:38:10.001500\n",
      "ループ 2023-05-17 17:38:12.004782\n",
      "ループ 2023-05-17 17:38:14.004668\n",
      "ループ 2023-05-17 17:38:16.002343\n",
      "ループ 2023-05-17 17:38:18.004406\n",
      "ループ 2023-05-17 17:38:20.005066\n",
      "ループ 2023-05-17 17:38:22.001118\n",
      "ループ 2023-05-17 17:38:24.004479\n",
      "ループ 2023-05-17 17:38:26.005049\n",
      "ループ 2023-05-17 17:38:28.003707\n"
     ]
    },
    {
     "ename": "KeyboardInterrupt",
     "evalue": "",
     "output_type": "error",
     "traceback": [
      "\u001b[0;31m---------------------------------------------------------------------------\u001b[0m",
      "\u001b[0;31mKeyboardInterrupt\u001b[0m                         Traceback (most recent call last)",
      "Cell \u001b[0;32mIn[4], line 46\u001b[0m\n\u001b[1;32m     43\u001b[0m         func()\n\u001b[1;32m     45\u001b[0m \u001b[39m# 開始時刻をx.000秒に揃える\u001b[39;00m\n\u001b[0;32m---> 46\u001b[0m wait_until_sec()\n",
      "Cell \u001b[0;32mIn[4], line 21\u001b[0m, in \u001b[0;36mwait_until_sec\u001b[0;34m(interval)\u001b[0m\n\u001b[1;32m     20\u001b[0m \u001b[39mdef\u001b[39;00m \u001b[39mwait_until_sec\u001b[39m(interval\u001b[39m=\u001b[39m\u001b[39m1\u001b[39m):\n\u001b[0;32m---> 21\u001b[0m     time\u001b[39m.\u001b[39;49msleep(interval \u001b[39m+\u001b[39;49m \u001b[39m1\u001b[39;49m \u001b[39m-\u001b[39;49m datetime\u001b[39m.\u001b[39;49mdatetime\u001b[39m.\u001b[39;49mnow()\u001b[39m.\u001b[39;49mmicrosecond \u001b[39m/\u001b[39;49m \u001b[39m10\u001b[39;49m\u001b[39m*\u001b[39;49m\u001b[39m*\u001b[39;49m\u001b[39m6\u001b[39;49m)\n",
      "\u001b[0;31mKeyboardInterrupt\u001b[0m: "
     ]
    }
   ],
   "source": [
    "import time\n",
    "import datetime\n",
    "\n",
    "def crawlers_20():\n",
    "    time.sleep(0.1)\n",
    "    #print(\"1秒ごとの処理を実行しました\")\n",
    "\n",
    "def crawlers_60():\n",
    "    time.sleep(0.1)\n",
    "    #print(\"2秒ごとの処理を実行しました\")\n",
    "\n",
    "def crawlers_120():\n",
    "    time.sleep(0.1)\n",
    "    #print(\"3秒ごとの処理を実行しました\")\n",
    "\n",
    "def wait_until_min():\n",
    "    now = datetime.datetime.now()\n",
    "    time.sleep(60 - now.second - datetime.datetime.now().microsecond / 10**6)\n",
    "\n",
    "def wait_until_sec(interval=1):\n",
    "    time.sleep(interval - datetime.datetime.now().microsecond / 10**6)\n",
    "\n",
    "intervals = {\n",
    "    crawlers_20: 20,\n",
    "    crawlers_60: 60,\n",
    "    crawlers_120: 120\n",
    "}\n",
    "\n",
    "last_execution = {}\n",
    "\n",
    "print(\"開始時刻\", datetime.datetime.now())\n",
    "\n",
    "# 開始時刻を0.000秒に揃える\n",
    "wait_until_min()\n",
    "\n",
    "while True:\n",
    "    print(\"ループ\", datetime.datetime.now())\n",
    "    current_time = time.time()\n",
    "\n",
    "    for func, interval in intervals.items():\n",
    "        if func not in last_execution or current_time - last_execution[func] >= interval:\n",
    "            last_execution[func] = current_time\n",
    "            func()\n",
    "\n",
    "    # 開始時刻をx.000秒に揃える\n",
    "    wait_until_sec(interval=10)"
   ]
  }
 ],
 "metadata": {
  "kernelspec": {
   "display_name": "py310",
   "language": "python",
   "name": "python3"
  },
  "language_info": {
   "codemirror_mode": {
    "name": "ipython",
    "version": 3
   },
   "file_extension": ".py",
   "mimetype": "text/x-python",
   "name": "python",
   "nbconvert_exporter": "python",
   "pygments_lexer": "ipython3",
   "version": "3.10.10"
  },
  "orig_nbformat": 4
 },
 "nbformat": 4,
 "nbformat_minor": 2
}
